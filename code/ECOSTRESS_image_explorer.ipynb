{
 "cells": [
  {
   "cell_type": "code",
   "execution_count": 98,
   "metadata": {},
   "outputs": [],
   "source": [
    "import pandas as pd\n",
    "import rasterio as rio\n",
    "import rasterio.plot as plot\n",
    "import os\n",
    "from shapely import geometry\n",
    "import matplotlib.pyplot as plt\n",
    "import numpy as np\n",
    "import ipywidgets\n",
    "\n",
    "import ipysheet as ips"
   ]
  },
  {
   "cell_type": "markdown",
   "metadata": {},
   "source": [
    "For the interactive table to work, you;ve got to follow the steps to install ipysheet: https://github.com/porefluid/jpl_msp_2020/blob/master/code/ECOSTRESS_image_explorer.ipynb"
   ]
  },
  {
   "cell_type": "code",
   "execution_count": 89,
   "metadata": {},
   "outputs": [],
   "source": [
    "rainier_bounds = geometry.Polygon([[-121.78742980957031, 46.83193588256836], [-121.78742980957031, 46.867401123046875], [-121.73469543457031, 46.867401123046875], [-121.73469543457031, 46.83193588256836], [-121.78742980957031, 46.83193588256836]])     "
   ]
  },
  {
   "cell_type": "code",
   "execution_count": 90,
   "metadata": {},
   "outputs": [],
   "source": [
    "imdir = '/Users/corey/Documents/GitHub/jpl_msp_2020/data/ecostress_mt_rainier'\n",
    "plot_dir = imdir+'/plots'\n",
    "\n",
    "plots = []\n",
    "fname = []\n",
    "\n",
    "sheet = ips.sheet()\n",
    "\n",
    "x, y = rainier_bounds.exterior.xy\n",
    "\n",
    "\n",
    "for d, s, f, in os.walk(imdir):\n",
    "    for row, i in enumerate(f):\n",
    "        if 'ECO2LSTE.001_SDS_Emis5_doy' in i:\n",
    "            \n",
    "            p = os.path.join(imdir, i)\n",
    "            im = rio.open(p)\n",
    "            im_read = im.read(1)\n",
    "            im_read = im_read.astype(float)\n",
    "            im_read[im_read == 0] = np.nan\n",
    "            \n",
    "            strs = i.split('_')\n",
    "            scaled = (im_read*0.002)+0.49\n",
    "            \n",
    "            \n",
    "            if np.median(scaled) >= 0.95:\n",
    "                #print(p)\n",
    "                out = widget.Output()\n",
    "                with out:\n",
    "                    fig, ax = plt.subplots()\n",
    "                    plot.show(scaled, transform=im.transform, cmap='Greys', vmin=0.9, vmax=0.99, ax=ax)\n",
    "                    #ax.set_xlim(x[0], x[2])\n",
    "                    #ax.set_ylim(y[0], y[2])\n",
    "                    plt.show(fig)\n",
    "                    plots.append(out)\n",
    "                    fname.append(p)\n",
    "\n",
    "\n"
   ]
  },
  {
   "cell_type": "code",
   "execution_count": 94,
   "metadata": {
    "scrolled": true
   },
   "outputs": [
    {
     "data": {
      "application/vnd.jupyter.widget-view+json": {
       "model_id": "030994fa843d40f8bce8e8edf3ca660f",
       "version_major": 2,
       "version_minor": 0
      },
      "text/plain": [
       "Sheet(cells=(Cell(column_end=0, column_start=0, row_end=89, row_start=0, squeeze_row=False, type='widget', val…"
      ]
     },
     "metadata": {},
     "output_type": "display_data"
    }
   ],
   "source": [
    "sheet = ips.sheet(columns=2, rows =len(plots))    \n",
    "column1 = ips.column(0, plots)\n",
    "column2 = ips.column(1, [False]*len(plots))\n",
    "sheet"
   ]
  },
  {
   "cell_type": "code",
   "execution_count": 95,
   "metadata": {},
   "outputs": [],
   "source": [
    "qc_images = pd.DataFrame({'images': fname, 'qc_flag': column2.value})"
   ]
  },
  {
   "cell_type": "code",
   "execution_count": 96,
   "metadata": {},
   "outputs": [
    {
     "data": {
      "text/html": [
       "<div>\n",
       "<style scoped>\n",
       "    .dataframe tbody tr th:only-of-type {\n",
       "        vertical-align: middle;\n",
       "    }\n",
       "\n",
       "    .dataframe tbody tr th {\n",
       "        vertical-align: top;\n",
       "    }\n",
       "\n",
       "    .dataframe thead th {\n",
       "        text-align: right;\n",
       "    }\n",
       "</style>\n",
       "<table border=\"1\" class=\"dataframe\">\n",
       "  <thead>\n",
       "    <tr style=\"text-align: right;\">\n",
       "      <th></th>\n",
       "      <th>images</th>\n",
       "      <th>qc_flag</th>\n",
       "    </tr>\n",
       "  </thead>\n",
       "  <tbody>\n",
       "    <tr>\n",
       "      <th>1</th>\n",
       "      <td>/Users/corey/Documents/GitHub/jpl_msp_2020/dat...</td>\n",
       "      <td>True</td>\n",
       "    </tr>\n",
       "    <tr>\n",
       "      <th>8</th>\n",
       "      <td>/Users/corey/Documents/GitHub/jpl_msp_2020/dat...</td>\n",
       "      <td>True</td>\n",
       "    </tr>\n",
       "    <tr>\n",
       "      <th>9</th>\n",
       "      <td>/Users/corey/Documents/GitHub/jpl_msp_2020/dat...</td>\n",
       "      <td>True</td>\n",
       "    </tr>\n",
       "    <tr>\n",
       "      <th>11</th>\n",
       "      <td>/Users/corey/Documents/GitHub/jpl_msp_2020/dat...</td>\n",
       "      <td>True</td>\n",
       "    </tr>\n",
       "    <tr>\n",
       "      <th>15</th>\n",
       "      <td>/Users/corey/Documents/GitHub/jpl_msp_2020/dat...</td>\n",
       "      <td>True</td>\n",
       "    </tr>\n",
       "    <tr>\n",
       "      <th>16</th>\n",
       "      <td>/Users/corey/Documents/GitHub/jpl_msp_2020/dat...</td>\n",
       "      <td>True</td>\n",
       "    </tr>\n",
       "  </tbody>\n",
       "</table>\n",
       "</div>"
      ],
      "text/plain": [
       "                                               images  qc_flag\n",
       "1   /Users/corey/Documents/GitHub/jpl_msp_2020/dat...     True\n",
       "8   /Users/corey/Documents/GitHub/jpl_msp_2020/dat...     True\n",
       "9   /Users/corey/Documents/GitHub/jpl_msp_2020/dat...     True\n",
       "11  /Users/corey/Documents/GitHub/jpl_msp_2020/dat...     True\n",
       "15  /Users/corey/Documents/GitHub/jpl_msp_2020/dat...     True\n",
       "16  /Users/corey/Documents/GitHub/jpl_msp_2020/dat...     True"
      ]
     },
     "execution_count": 96,
     "metadata": {},
     "output_type": "execute_result"
    }
   ],
   "source": [
    "qc_images[qc_images['qc_flag'] ==True]"
   ]
  },
  {
   "cell_type": "code",
   "execution_count": null,
   "metadata": {},
   "outputs": [],
   "source": []
  }
 ],
 "metadata": {
  "kernelspec": {
   "display_name": "Python 3",
   "language": "python",
   "name": "python3"
  },
  "language_info": {
   "codemirror_mode": {
    "name": "ipython",
    "version": 3
   },
   "file_extension": ".py",
   "mimetype": "text/x-python",
   "name": "python",
   "nbconvert_exporter": "python",
   "pygments_lexer": "ipython3",
   "version": "3.8.3"
  }
 },
 "nbformat": 4,
 "nbformat_minor": 4
}
