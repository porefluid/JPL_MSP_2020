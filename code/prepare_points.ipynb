{
 "cells": [
  {
   "cell_type": "code",
   "execution_count": 25,
   "metadata": {},
   "outputs": [],
   "source": [
    "import pandas as pd\n",
    "import geopandas as gpd\n",
    "from shapely.geometry import shape\n",
    "import json"
   ]
  },
  {
   "cell_type": "code",
   "execution_count": 27,
   "metadata": {},
   "outputs": [],
   "source": [
    "def CustomParser(data):\n",
    "    import json\n",
    "    j1 = json.loads(data)\n",
    "    return j1"
   ]
  },
  {
   "cell_type": "code",
   "execution_count": 87,
   "metadata": {},
   "outputs": [],
   "source": [
    "df = pd.read_csv('/Users/corey/Documents/GitHub/JPL_MSP_2020/data/ASAR_glacier_centroids.csv', converters={'.geo':CustomParser})"
   ]
  },
  {
   "cell_type": "code",
   "execution_count": 88,
   "metadata": {},
   "outputs": [],
   "source": [
    "\n",
    "geom = [shape(i) for i in df['.geo']]\n",
    "\n",
    "df['geom'] = geom\n",
    "\n",
    "gdf = gpd.GeoDataFrame(df, geometry='geom')"
   ]
  },
  {
   "cell_type": "code",
   "execution_count": 98,
   "metadata": {},
   "outputs": [],
   "source": [
    "x = gdf.geometry.x\n",
    "y = gdf.geometry.y\n",
    "\n",
    "pts_for_export = pd.DataFrame(gdf['system:index']).rename(columns={'system:index': 'ID'})\n",
    "pts_for_export['y'] = y \n",
    "pts_for_export['x'] = x \n",
    "pts_for_export.set_index('ID', inplace=True)\n",
    "pts_for_export.to_csv('data/AppEEARS_formatted_pts.csv')"
   ]
  },
  {
   "cell_type": "code",
   "execution_count": 99,
   "metadata": {},
   "outputs": [
    {
     "data": {
      "text/html": [
       "<div>\n",
       "<style scoped>\n",
       "    .dataframe tbody tr th:only-of-type {\n",
       "        vertical-align: middle;\n",
       "    }\n",
       "\n",
       "    .dataframe tbody tr th {\n",
       "        vertical-align: top;\n",
       "    }\n",
       "\n",
       "    .dataframe thead th {\n",
       "        text-align: right;\n",
       "    }\n",
       "</style>\n",
       "<table border=\"1\" class=\"dataframe\">\n",
       "  <thead>\n",
       "    <tr style=\"text-align: right;\">\n",
       "      <th></th>\n",
       "      <th>y</th>\n",
       "      <th>x</th>\n",
       "    </tr>\n",
       "    <tr>\n",
       "      <th>ID</th>\n",
       "      <th></th>\n",
       "      <th></th>\n",
       "    </tr>\n",
       "  </thead>\n",
       "  <tbody>\n",
       "    <tr>\n",
       "      <th>0011000000000000389f</th>\n",
       "      <td>45.349416</td>\n",
       "      <td>-121.707102</td>\n",
       "    </tr>\n",
       "    <tr>\n",
       "      <th>00110000000000003a06</th>\n",
       "      <td>45.407855</td>\n",
       "      <td>-121.732235</td>\n",
       "    </tr>\n",
       "    <tr>\n",
       "      <th>00110000000000003a22</th>\n",
       "      <td>45.404763</td>\n",
       "      <td>-121.715348</td>\n",
       "    </tr>\n",
       "    <tr>\n",
       "      <th>00110000000000003a3c</th>\n",
       "      <td>45.391452</td>\n",
       "      <td>-121.672459</td>\n",
       "    </tr>\n",
       "    <tr>\n",
       "      <th>00110000000000003a6a</th>\n",
       "      <td>45.392133</td>\n",
       "      <td>-121.706401</td>\n",
       "    </tr>\n",
       "    <tr>\n",
       "      <th>...</th>\n",
       "      <td>...</td>\n",
       "      <td>...</td>\n",
       "    </tr>\n",
       "    <tr>\n",
       "      <th>001400000000000046c8</th>\n",
       "      <td>37.762535</td>\n",
       "      <td>-119.295526</td>\n",
       "    </tr>\n",
       "    <tr>\n",
       "      <th>001400000000000046d6</th>\n",
       "      <td>37.757158</td>\n",
       "      <td>-119.308638</td>\n",
       "    </tr>\n",
       "    <tr>\n",
       "      <th>00140000000000004752</th>\n",
       "      <td>37.743403</td>\n",
       "      <td>-119.293343</td>\n",
       "    </tr>\n",
       "    <tr>\n",
       "      <th>00140000000000004933</th>\n",
       "      <td>37.734001</td>\n",
       "      <td>-119.259710</td>\n",
       "    </tr>\n",
       "    <tr>\n",
       "      <th>001400000000000049eb</th>\n",
       "      <td>37.704210</td>\n",
       "      <td>-119.254330</td>\n",
       "    </tr>\n",
       "  </tbody>\n",
       "</table>\n",
       "<p>632 rows × 2 columns</p>\n",
       "</div>"
      ],
      "text/plain": [
       "                              y           x\n",
       "ID                                         \n",
       "0011000000000000389f  45.349416 -121.707102\n",
       "00110000000000003a06  45.407855 -121.732235\n",
       "00110000000000003a22  45.404763 -121.715348\n",
       "00110000000000003a3c  45.391452 -121.672459\n",
       "00110000000000003a6a  45.392133 -121.706401\n",
       "...                         ...         ...\n",
       "001400000000000046c8  37.762535 -119.295526\n",
       "001400000000000046d6  37.757158 -119.308638\n",
       "00140000000000004752  37.743403 -119.293343\n",
       "00140000000000004933  37.734001 -119.259710\n",
       "001400000000000049eb  37.704210 -119.254330\n",
       "\n",
       "[632 rows x 2 columns]"
      ]
     },
     "execution_count": 99,
     "metadata": {},
     "output_type": "execute_result"
    }
   ],
   "source": [
    "pts_for_export"
   ]
  },
  {
   "cell_type": "code",
   "execution_count": null,
   "metadata": {},
   "outputs": [],
   "source": []
  }
 ],
 "metadata": {
  "kernelspec": {
   "display_name": "Python 3",
   "language": "python",
   "name": "python3"
  },
  "language_info": {
   "codemirror_mode": {
    "name": "ipython",
    "version": 3
   },
   "file_extension": ".py",
   "mimetype": "text/x-python",
   "name": "python",
   "nbconvert_exporter": "python",
   "pygments_lexer": "ipython3",
   "version": "3.7.7"
  }
 },
 "nbformat": 4,
 "nbformat_minor": 4
}
